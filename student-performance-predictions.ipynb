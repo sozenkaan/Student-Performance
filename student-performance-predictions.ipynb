{
 "cells": [
  {
   "cell_type": "code",
   "execution_count": 1,
   "id": "87230ae5",
   "metadata": {
    "_cell_guid": "b1076dfc-b9ad-4769-8c92-a6c4dae69d19",
    "_uuid": "8f2839f25d086af736a60e9eeb907d3b93b6e0e5",
    "execution": {
     "iopub.execute_input": "2024-08-17T20:49:14.898670Z",
     "iopub.status.busy": "2024-08-17T20:49:14.898284Z",
     "iopub.status.idle": "2024-08-17T20:49:17.164321Z",
     "shell.execute_reply": "2024-08-17T20:49:17.162934Z"
    },
    "papermill": {
     "duration": 2.274382,
     "end_time": "2024-08-17T20:49:17.166720",
     "exception": false,
     "start_time": "2024-08-17T20:49:14.892338",
     "status": "completed"
    },
    "tags": []
   },
   "outputs": [
    {
     "name": "stdout",
     "output_type": "stream",
     "text": [
      "/kaggle/input/student-performance-predictions/st.ipynb\n",
      "/kaggle/input/student-performance-predictions/student_performance.csv\n",
      "/kaggle/input/student-performance-predictions/best_student_performance_model.pkl\n"
     ]
    }
   ],
   "source": [
    "# This Python 3 environment comes with many helpful analytics libraries installed\n",
    "# It is defined by the kaggle/python Docker image: https://github.com/kaggle/docker-python\n",
    "# For example, here's several helpful packages to load\n",
    "\n",
    "import numpy as np # linear algebra\n",
    "import pandas as pd # data processing, CSV file I/O (e.g. pd.read_csv)\n",
    "from sklearn.preprocessing import OneHotEncoder\n",
    "from sklearn.model_selection import train_test_split\n",
    "from sklearn.ensemble import RandomForestRegressor\n",
    "from sklearn.tree import  DecisionTreeRegressor\n",
    "from sklearn.metrics import precision_score,roc_auc_score,mean_squared_error,d2_absolute_error_score,accuracy_score\n",
    "import warnings\n",
    "warnings.filterwarnings(\"ignore\")\n",
    "# Input data files are available in the read-only \"../input/\" directory\n",
    "# For example, running this (by clicking run or pressing Shift+Enter) will list all files under the input directory\n",
    "\n",
    "import os\n",
    "for dirname, _, filenames in os.walk('/kaggle/input'):\n",
    "    for filename in filenames:\n",
    "        print(os.path.join(dirname, filename))\n",
    "\n",
    "# You can write up to 20GB to the current directory (/kaggle/working/) that gets preserved as output when you create a version using \"Save & Run All\" \n",
    "# You can also write temporary files to /kaggle/temp/, but they won't be saved outside of the current session"
   ]
  },
  {
   "cell_type": "code",
   "execution_count": 2,
   "id": "60f30015",
   "metadata": {
    "execution": {
     "iopub.execute_input": "2024-08-17T20:49:17.176194Z",
     "iopub.status.busy": "2024-08-17T20:49:17.175706Z",
     "iopub.status.idle": "2024-08-17T20:49:17.213763Z",
     "shell.execute_reply": "2024-08-17T20:49:17.212579Z"
    },
    "papermill": {
     "duration": 0.045233,
     "end_time": "2024-08-17T20:49:17.216097",
     "exception": false,
     "start_time": "2024-08-17T20:49:17.170864",
     "status": "completed"
    },
    "tags": []
   },
   "outputs": [
    {
     "data": {
      "text/html": [
       "<div>\n",
       "<style scoped>\n",
       "    .dataframe tbody tr th:only-of-type {\n",
       "        vertical-align: middle;\n",
       "    }\n",
       "\n",
       "    .dataframe tbody tr th {\n",
       "        vertical-align: top;\n",
       "    }\n",
       "\n",
       "    .dataframe thead th {\n",
       "        text-align: right;\n",
       "    }\n",
       "</style>\n",
       "<table border=\"1\" class=\"dataframe\">\n",
       "  <thead>\n",
       "    <tr style=\"text-align: right;\">\n",
       "      <th></th>\n",
       "      <th>StudentID</th>\n",
       "      <th>Name</th>\n",
       "      <th>Gender</th>\n",
       "      <th>AttendanceRate</th>\n",
       "      <th>StudyHoursPerWeek</th>\n",
       "      <th>PreviousGrade</th>\n",
       "      <th>ExtracurricularActivities</th>\n",
       "      <th>ParentalSupport</th>\n",
       "      <th>FinalGrade</th>\n",
       "    </tr>\n",
       "  </thead>\n",
       "  <tbody>\n",
       "    <tr>\n",
       "      <th>0</th>\n",
       "      <td>1</td>\n",
       "      <td>John</td>\n",
       "      <td>Male</td>\n",
       "      <td>85</td>\n",
       "      <td>15</td>\n",
       "      <td>78</td>\n",
       "      <td>1</td>\n",
       "      <td>High</td>\n",
       "      <td>80</td>\n",
       "    </tr>\n",
       "    <tr>\n",
       "      <th>1</th>\n",
       "      <td>2</td>\n",
       "      <td>Sarah</td>\n",
       "      <td>Female</td>\n",
       "      <td>90</td>\n",
       "      <td>20</td>\n",
       "      <td>85</td>\n",
       "      <td>2</td>\n",
       "      <td>Medium</td>\n",
       "      <td>87</td>\n",
       "    </tr>\n",
       "    <tr>\n",
       "      <th>2</th>\n",
       "      <td>3</td>\n",
       "      <td>Alex</td>\n",
       "      <td>Male</td>\n",
       "      <td>78</td>\n",
       "      <td>10</td>\n",
       "      <td>65</td>\n",
       "      <td>0</td>\n",
       "      <td>Low</td>\n",
       "      <td>68</td>\n",
       "    </tr>\n",
       "    <tr>\n",
       "      <th>3</th>\n",
       "      <td>4</td>\n",
       "      <td>Michael</td>\n",
       "      <td>Male</td>\n",
       "      <td>92</td>\n",
       "      <td>25</td>\n",
       "      <td>90</td>\n",
       "      <td>3</td>\n",
       "      <td>High</td>\n",
       "      <td>92</td>\n",
       "    </tr>\n",
       "    <tr>\n",
       "      <th>4</th>\n",
       "      <td>5</td>\n",
       "      <td>Emma</td>\n",
       "      <td>Female</td>\n",
       "      <td>88</td>\n",
       "      <td>18</td>\n",
       "      <td>82</td>\n",
       "      <td>2</td>\n",
       "      <td>Medium</td>\n",
       "      <td>85</td>\n",
       "    </tr>\n",
       "  </tbody>\n",
       "</table>\n",
       "</div>"
      ],
      "text/plain": [
       "   StudentID     Name  Gender  AttendanceRate  StudyHoursPerWeek  \\\n",
       "0          1     John    Male              85                 15   \n",
       "1          2    Sarah  Female              90                 20   \n",
       "2          3     Alex    Male              78                 10   \n",
       "3          4  Michael    Male              92                 25   \n",
       "4          5     Emma  Female              88                 18   \n",
       "\n",
       "   PreviousGrade  ExtracurricularActivities ParentalSupport  FinalGrade  \n",
       "0             78                          1            High          80  \n",
       "1             85                          2          Medium          87  \n",
       "2             65                          0             Low          68  \n",
       "3             90                          3            High          92  \n",
       "4             82                          2          Medium          85  "
      ]
     },
     "execution_count": 2,
     "metadata": {},
     "output_type": "execute_result"
    }
   ],
   "source": [
    "data=pd.read_csv(\"/kaggle/input/student-performance-predictions/student_performance.csv\")\n",
    "data.head()"
   ]
  },
  {
   "cell_type": "code",
   "execution_count": 3,
   "id": "f3eb7168",
   "metadata": {
    "execution": {
     "iopub.execute_input": "2024-08-17T20:49:17.226215Z",
     "iopub.status.busy": "2024-08-17T20:49:17.225205Z",
     "iopub.status.idle": "2024-08-17T20:49:17.241201Z",
     "shell.execute_reply": "2024-08-17T20:49:17.240183Z"
    },
    "papermill": {
     "duration": 0.023106,
     "end_time": "2024-08-17T20:49:17.243218",
     "exception": false,
     "start_time": "2024-08-17T20:49:17.220112",
     "status": "completed"
    },
    "tags": []
   },
   "outputs": [
    {
     "data": {
      "text/html": [
       "<div>\n",
       "<style scoped>\n",
       "    .dataframe tbody tr th:only-of-type {\n",
       "        vertical-align: middle;\n",
       "    }\n",
       "\n",
       "    .dataframe tbody tr th {\n",
       "        vertical-align: top;\n",
       "    }\n",
       "\n",
       "    .dataframe thead th {\n",
       "        text-align: right;\n",
       "    }\n",
       "</style>\n",
       "<table border=\"1\" class=\"dataframe\">\n",
       "  <thead>\n",
       "    <tr style=\"text-align: right;\">\n",
       "      <th></th>\n",
       "      <th>AttendanceRate</th>\n",
       "      <th>StudyHoursPerWeek</th>\n",
       "      <th>PreviousGrade</th>\n",
       "      <th>ExtracurricularActivities</th>\n",
       "      <th>ParentalSupport</th>\n",
       "      <th>FinalGrade</th>\n",
       "    </tr>\n",
       "  </thead>\n",
       "  <tbody>\n",
       "    <tr>\n",
       "      <th>0</th>\n",
       "      <td>85</td>\n",
       "      <td>15</td>\n",
       "      <td>78</td>\n",
       "      <td>1</td>\n",
       "      <td>High</td>\n",
       "      <td>80</td>\n",
       "    </tr>\n",
       "    <tr>\n",
       "      <th>1</th>\n",
       "      <td>90</td>\n",
       "      <td>20</td>\n",
       "      <td>85</td>\n",
       "      <td>2</td>\n",
       "      <td>Medium</td>\n",
       "      <td>87</td>\n",
       "    </tr>\n",
       "    <tr>\n",
       "      <th>2</th>\n",
       "      <td>78</td>\n",
       "      <td>10</td>\n",
       "      <td>65</td>\n",
       "      <td>0</td>\n",
       "      <td>Low</td>\n",
       "      <td>68</td>\n",
       "    </tr>\n",
       "    <tr>\n",
       "      <th>3</th>\n",
       "      <td>92</td>\n",
       "      <td>25</td>\n",
       "      <td>90</td>\n",
       "      <td>3</td>\n",
       "      <td>High</td>\n",
       "      <td>92</td>\n",
       "    </tr>\n",
       "    <tr>\n",
       "      <th>4</th>\n",
       "      <td>88</td>\n",
       "      <td>18</td>\n",
       "      <td>82</td>\n",
       "      <td>2</td>\n",
       "      <td>Medium</td>\n",
       "      <td>85</td>\n",
       "    </tr>\n",
       "  </tbody>\n",
       "</table>\n",
       "</div>"
      ],
      "text/plain": [
       "   AttendanceRate  StudyHoursPerWeek  PreviousGrade  \\\n",
       "0              85                 15             78   \n",
       "1              90                 20             85   \n",
       "2              78                 10             65   \n",
       "3              92                 25             90   \n",
       "4              88                 18             82   \n",
       "\n",
       "   ExtracurricularActivities ParentalSupport  FinalGrade  \n",
       "0                          1            High          80  \n",
       "1                          2          Medium          87  \n",
       "2                          0             Low          68  \n",
       "3                          3            High          92  \n",
       "4                          2          Medium          85  "
      ]
     },
     "execution_count": 3,
     "metadata": {},
     "output_type": "execute_result"
    }
   ],
   "source": [
    "data=data.drop(columns=['StudentID','Name','Gender'])\n",
    "data.head()"
   ]
  },
  {
   "cell_type": "code",
   "execution_count": 4,
   "id": "154f4a6b",
   "metadata": {
    "execution": {
     "iopub.execute_input": "2024-08-17T20:49:17.253331Z",
     "iopub.status.busy": "2024-08-17T20:49:17.252939Z",
     "iopub.status.idle": "2024-08-17T20:49:17.273920Z",
     "shell.execute_reply": "2024-08-17T20:49:17.272922Z"
    },
    "papermill": {
     "duration": 0.028759,
     "end_time": "2024-08-17T20:49:17.276372",
     "exception": false,
     "start_time": "2024-08-17T20:49:17.247613",
     "status": "completed"
    },
    "tags": []
   },
   "outputs": [
    {
     "name": "stdout",
     "output_type": "stream",
     "text": [
      "<class 'pandas.core.frame.DataFrame'>\n",
      "RangeIndex: 10 entries, 0 to 9\n",
      "Data columns (total 6 columns):\n",
      " #   Column                     Non-Null Count  Dtype \n",
      "---  ------                     --------------  ----- \n",
      " 0   AttendanceRate             10 non-null     int64 \n",
      " 1   StudyHoursPerWeek          10 non-null     int64 \n",
      " 2   PreviousGrade              10 non-null     int64 \n",
      " 3   ExtracurricularActivities  10 non-null     int64 \n",
      " 4   ParentalSupport            10 non-null     object\n",
      " 5   FinalGrade                 10 non-null     int64 \n",
      "dtypes: int64(5), object(1)\n",
      "memory usage: 608.0+ bytes\n"
     ]
    }
   ],
   "source": [
    "data.info()"
   ]
  },
  {
   "cell_type": "code",
   "execution_count": 5,
   "id": "3b5c9bd2",
   "metadata": {
    "execution": {
     "iopub.execute_input": "2024-08-17T20:49:17.287023Z",
     "iopub.status.busy": "2024-08-17T20:49:17.286638Z",
     "iopub.status.idle": "2024-08-17T20:49:17.300099Z",
     "shell.execute_reply": "2024-08-17T20:49:17.299003Z"
    },
    "papermill": {
     "duration": 0.021112,
     "end_time": "2024-08-17T20:49:17.302174",
     "exception": false,
     "start_time": "2024-08-17T20:49:17.281062",
     "status": "completed"
    },
    "tags": []
   },
   "outputs": [],
   "source": [
    "ohe=OneHotEncoder(sparse=False)\n",
    "encoded_columns=ohe.fit_transform(data[['ParentalSupport']])\n",
    "encoded_col_names=ohe.get_feature_names_out(['ParentalSupport'])\n",
    "encoded_df=pd.DataFrame(encoded_columns,columns=encoded_col_names)\n",
    "data=pd.concat([data,encoded_df],axis=1)"
   ]
  },
  {
   "cell_type": "code",
   "execution_count": 6,
   "id": "d55a241d",
   "metadata": {
    "execution": {
     "iopub.execute_input": "2024-08-17T20:49:17.312683Z",
     "iopub.status.busy": "2024-08-17T20:49:17.312313Z",
     "iopub.status.idle": "2024-08-17T20:49:17.318674Z",
     "shell.execute_reply": "2024-08-17T20:49:17.317645Z"
    },
    "papermill": {
     "duration": 0.014066,
     "end_time": "2024-08-17T20:49:17.320807",
     "exception": false,
     "start_time": "2024-08-17T20:49:17.306741",
     "status": "completed"
    },
    "tags": []
   },
   "outputs": [],
   "source": [
    "data=data.drop('ParentalSupport',axis=1)"
   ]
  },
  {
   "cell_type": "code",
   "execution_count": 7,
   "id": "921a4dba",
   "metadata": {
    "execution": {
     "iopub.execute_input": "2024-08-17T20:49:17.331569Z",
     "iopub.status.busy": "2024-08-17T20:49:17.330623Z",
     "iopub.status.idle": "2024-08-17T20:49:17.345813Z",
     "shell.execute_reply": "2024-08-17T20:49:17.344843Z"
    },
    "papermill": {
     "duration": 0.022906,
     "end_time": "2024-08-17T20:49:17.348125",
     "exception": false,
     "start_time": "2024-08-17T20:49:17.325219",
     "status": "completed"
    },
    "tags": []
   },
   "outputs": [
    {
     "data": {
      "text/html": [
       "<div>\n",
       "<style scoped>\n",
       "    .dataframe tbody tr th:only-of-type {\n",
       "        vertical-align: middle;\n",
       "    }\n",
       "\n",
       "    .dataframe tbody tr th {\n",
       "        vertical-align: top;\n",
       "    }\n",
       "\n",
       "    .dataframe thead th {\n",
       "        text-align: right;\n",
       "    }\n",
       "</style>\n",
       "<table border=\"1\" class=\"dataframe\">\n",
       "  <thead>\n",
       "    <tr style=\"text-align: right;\">\n",
       "      <th></th>\n",
       "      <th>AttendanceRate</th>\n",
       "      <th>StudyHoursPerWeek</th>\n",
       "      <th>PreviousGrade</th>\n",
       "      <th>ExtracurricularActivities</th>\n",
       "      <th>FinalGrade</th>\n",
       "      <th>ParentalSupport_High</th>\n",
       "      <th>ParentalSupport_Low</th>\n",
       "      <th>ParentalSupport_Medium</th>\n",
       "    </tr>\n",
       "  </thead>\n",
       "  <tbody>\n",
       "    <tr>\n",
       "      <th>0</th>\n",
       "      <td>85</td>\n",
       "      <td>15</td>\n",
       "      <td>78</td>\n",
       "      <td>1</td>\n",
       "      <td>80</td>\n",
       "      <td>1.0</td>\n",
       "      <td>0.0</td>\n",
       "      <td>0.0</td>\n",
       "    </tr>\n",
       "    <tr>\n",
       "      <th>1</th>\n",
       "      <td>90</td>\n",
       "      <td>20</td>\n",
       "      <td>85</td>\n",
       "      <td>2</td>\n",
       "      <td>87</td>\n",
       "      <td>0.0</td>\n",
       "      <td>0.0</td>\n",
       "      <td>1.0</td>\n",
       "    </tr>\n",
       "    <tr>\n",
       "      <th>2</th>\n",
       "      <td>78</td>\n",
       "      <td>10</td>\n",
       "      <td>65</td>\n",
       "      <td>0</td>\n",
       "      <td>68</td>\n",
       "      <td>0.0</td>\n",
       "      <td>1.0</td>\n",
       "      <td>0.0</td>\n",
       "    </tr>\n",
       "    <tr>\n",
       "      <th>3</th>\n",
       "      <td>92</td>\n",
       "      <td>25</td>\n",
       "      <td>90</td>\n",
       "      <td>3</td>\n",
       "      <td>92</td>\n",
       "      <td>1.0</td>\n",
       "      <td>0.0</td>\n",
       "      <td>0.0</td>\n",
       "    </tr>\n",
       "    <tr>\n",
       "      <th>4</th>\n",
       "      <td>88</td>\n",
       "      <td>18</td>\n",
       "      <td>82</td>\n",
       "      <td>2</td>\n",
       "      <td>85</td>\n",
       "      <td>0.0</td>\n",
       "      <td>0.0</td>\n",
       "      <td>1.0</td>\n",
       "    </tr>\n",
       "  </tbody>\n",
       "</table>\n",
       "</div>"
      ],
      "text/plain": [
       "   AttendanceRate  StudyHoursPerWeek  PreviousGrade  \\\n",
       "0              85                 15             78   \n",
       "1              90                 20             85   \n",
       "2              78                 10             65   \n",
       "3              92                 25             90   \n",
       "4              88                 18             82   \n",
       "\n",
       "   ExtracurricularActivities  FinalGrade  ParentalSupport_High  \\\n",
       "0                          1          80                   1.0   \n",
       "1                          2          87                   0.0   \n",
       "2                          0          68                   0.0   \n",
       "3                          3          92                   1.0   \n",
       "4                          2          85                   0.0   \n",
       "\n",
       "   ParentalSupport_Low  ParentalSupport_Medium  \n",
       "0                  0.0                     0.0  \n",
       "1                  0.0                     1.0  \n",
       "2                  1.0                     0.0  \n",
       "3                  0.0                     0.0  \n",
       "4                  0.0                     1.0  "
      ]
     },
     "execution_count": 7,
     "metadata": {},
     "output_type": "execute_result"
    }
   ],
   "source": [
    "data.head()"
   ]
  },
  {
   "cell_type": "code",
   "execution_count": 8,
   "id": "9ed472e2",
   "metadata": {
    "execution": {
     "iopub.execute_input": "2024-08-17T20:49:17.359344Z",
     "iopub.status.busy": "2024-08-17T20:49:17.358650Z",
     "iopub.status.idle": "2024-08-17T20:49:17.369519Z",
     "shell.execute_reply": "2024-08-17T20:49:17.368502Z"
    },
    "papermill": {
     "duration": 0.019297,
     "end_time": "2024-08-17T20:49:17.372061",
     "exception": false,
     "start_time": "2024-08-17T20:49:17.352764",
     "status": "completed"
    },
    "tags": []
   },
   "outputs": [
    {
     "name": "stdout",
     "output_type": "stream",
     "text": [
      "<class 'pandas.core.frame.DataFrame'>\n",
      "RangeIndex: 10 entries, 0 to 9\n",
      "Data columns (total 8 columns):\n",
      " #   Column                     Non-Null Count  Dtype  \n",
      "---  ------                     --------------  -----  \n",
      " 0   AttendanceRate             10 non-null     int64  \n",
      " 1   StudyHoursPerWeek          10 non-null     int64  \n",
      " 2   PreviousGrade              10 non-null     int64  \n",
      " 3   ExtracurricularActivities  10 non-null     int64  \n",
      " 4   FinalGrade                 10 non-null     int64  \n",
      " 5   ParentalSupport_High       10 non-null     float64\n",
      " 6   ParentalSupport_Low        10 non-null     float64\n",
      " 7   ParentalSupport_Medium     10 non-null     float64\n",
      "dtypes: float64(3), int64(5)\n",
      "memory usage: 768.0 bytes\n"
     ]
    }
   ],
   "source": [
    "data.info()"
   ]
  },
  {
   "cell_type": "code",
   "execution_count": 9,
   "id": "bac80bfb",
   "metadata": {
    "execution": {
     "iopub.execute_input": "2024-08-17T20:49:17.383457Z",
     "iopub.status.busy": "2024-08-17T20:49:17.382793Z",
     "iopub.status.idle": "2024-08-17T20:49:17.388395Z",
     "shell.execute_reply": "2024-08-17T20:49:17.387400Z"
    },
    "papermill": {
     "duration": 0.013707,
     "end_time": "2024-08-17T20:49:17.390588",
     "exception": false,
     "start_time": "2024-08-17T20:49:17.376881",
     "status": "completed"
    },
    "tags": []
   },
   "outputs": [],
   "source": [
    "X=data.drop('FinalGrade',axis=1)\n",
    "y=data['FinalGrade']"
   ]
  },
  {
   "cell_type": "code",
   "execution_count": 10,
   "id": "81d6fdd5",
   "metadata": {
    "execution": {
     "iopub.execute_input": "2024-08-17T20:49:17.402253Z",
     "iopub.status.busy": "2024-08-17T20:49:17.401283Z",
     "iopub.status.idle": "2024-08-17T20:49:17.411372Z",
     "shell.execute_reply": "2024-08-17T20:49:17.410068Z"
    },
    "papermill": {
     "duration": 0.01829,
     "end_time": "2024-08-17T20:49:17.413697",
     "exception": false,
     "start_time": "2024-08-17T20:49:17.395407",
     "status": "completed"
    },
    "tags": []
   },
   "outputs": [
    {
     "name": "stdout",
     "output_type": "stream",
     "text": [
      "x_train shape:  (8, 7)\n",
      "x_test.shape:  (2, 7)\n",
      "y_train.shape:  (8,)\n",
      "y_test.shape:  (2,)\n"
     ]
    }
   ],
   "source": [
    "x_train,x_test,y_train,y_test=train_test_split(X,y,test_size=0.2,random_state=55)\n",
    "print('x_train shape: ',x_train.shape)\n",
    "print('x_test.shape: ',x_test.shape)\n",
    "print('y_train.shape: ',y_train.shape)\n",
    "print('y_test.shape: ',y_test.shape)"
   ]
  },
  {
   "cell_type": "code",
   "execution_count": 11,
   "id": "611f4e3a",
   "metadata": {
    "execution": {
     "iopub.execute_input": "2024-08-17T20:49:17.425081Z",
     "iopub.status.busy": "2024-08-17T20:49:17.424452Z",
     "iopub.status.idle": "2024-08-17T20:49:17.575945Z",
     "shell.execute_reply": "2024-08-17T20:49:17.574792Z"
    },
    "papermill": {
     "duration": 0.15964,
     "end_time": "2024-08-17T20:49:17.578268",
     "exception": false,
     "start_time": "2024-08-17T20:49:17.418628",
     "status": "completed"
    },
    "tags": []
   },
   "outputs": [
    {
     "data": {
      "text/plain": [
       "0.7807200000000021"
      ]
     },
     "execution_count": 11,
     "metadata": {},
     "output_type": "execute_result"
    }
   ],
   "source": [
    "rfr=RandomForestRegressor()\n",
    "model=rfr.fit(x_train,y_train)\n",
    "model.score(x_test,y_test)"
   ]
  },
  {
   "cell_type": "code",
   "execution_count": 12,
   "id": "07c604a9",
   "metadata": {
    "execution": {
     "iopub.execute_input": "2024-08-17T20:49:17.590213Z",
     "iopub.status.busy": "2024-08-17T20:49:17.589559Z",
     "iopub.status.idle": "2024-08-17T20:49:17.601908Z",
     "shell.execute_reply": "2024-08-17T20:49:17.600939Z"
    },
    "papermill": {
     "duration": 0.020525,
     "end_time": "2024-08-17T20:49:17.604011",
     "exception": false,
     "start_time": "2024-08-17T20:49:17.583486",
     "status": "completed"
    },
    "tags": []
   },
   "outputs": [
    {
     "data": {
      "text/plain": [
       "array([78.27])"
      ]
     },
     "execution_count": 12,
     "metadata": {},
     "output_type": "execute_result"
    }
   ],
   "source": [
    "model.predict([[75,25,50,2,1,0,1]])\n"
   ]
  },
  {
   "cell_type": "code",
   "execution_count": 13,
   "id": "88181727",
   "metadata": {
    "execution": {
     "iopub.execute_input": "2024-08-17T20:49:17.615996Z",
     "iopub.status.busy": "2024-08-17T20:49:17.615193Z",
     "iopub.status.idle": "2024-08-17T20:49:17.627329Z",
     "shell.execute_reply": "2024-08-17T20:49:17.626358Z"
    },
    "papermill": {
     "duration": 0.020806,
     "end_time": "2024-08-17T20:49:17.629932",
     "exception": false,
     "start_time": "2024-08-17T20:49:17.609126",
     "status": "completed"
    },
    "tags": []
   },
   "outputs": [
    {
     "name": "stdout",
     "output_type": "stream",
     "text": [
      "1.3704999999999874\n",
      "1.1706835610018564\n"
     ]
    }
   ],
   "source": [
    "prediction = rfr.predict(x_test)\n",
    "mse = mean_squared_error(y_test, prediction)\n",
    "rmse = mse**.5\n",
    "print(mse)\n",
    "print(rmse)"
   ]
  }
 ],
 "metadata": {
  "kaggle": {
   "accelerator": "none",
   "dataSources": [
    {
     "datasetId": 5555170,
     "sourceId": 9189698,
     "sourceType": "datasetVersion"
    }
   ],
   "dockerImageVersionId": 30746,
   "isGpuEnabled": false,
   "isInternetEnabled": true,
   "language": "python",
   "sourceType": "notebook"
  },
  "kernelspec": {
   "display_name": "Python 3",
   "language": "python",
   "name": "python3"
  },
  "language_info": {
   "codemirror_mode": {
    "name": "ipython",
    "version": 3
   },
   "file_extension": ".py",
   "mimetype": "text/x-python",
   "name": "python",
   "nbconvert_exporter": "python",
   "pygments_lexer": "ipython3",
   "version": "3.10.13"
  },
  "papermill": {
   "default_parameters": {},
   "duration": 6.046005,
   "end_time": "2024-08-17T20:49:18.253855",
   "environment_variables": {},
   "exception": null,
   "input_path": "__notebook__.ipynb",
   "output_path": "__notebook__.ipynb",
   "parameters": {},
   "start_time": "2024-08-17T20:49:12.207850",
   "version": "2.5.0"
  }
 },
 "nbformat": 4,
 "nbformat_minor": 5
}
